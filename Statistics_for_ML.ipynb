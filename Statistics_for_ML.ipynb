{
  "nbformat": 4,
  "nbformat_minor": 0,
  "metadata": {
    "colab": {
      "provenance": [],
      "authorship_tag": "ABX9TyNSgS8TsI7goXp3iNBf3zvW",
      "include_colab_link": true
    },
    "kernelspec": {
      "name": "python3",
      "display_name": "Python 3"
    },
    "language_info": {
      "name": "python"
    }
  },
  "cells": [
    {
      "cell_type": "markdown",
      "metadata": {
        "id": "view-in-github",
        "colab_type": "text"
      },
      "source": [
        "<a href=\"https://colab.research.google.com/github/afshari-maryam/Adversarial-domain-adaptation/blob/main/Statistics_for_ML.ipynb\" target=\"_parent\"><img src=\"https://colab.research.google.com/assets/colab-badge.svg\" alt=\"Open In Colab\"/></a>"
      ]
    },
    {
      "cell_type": "markdown",
      "source": [
        "1. Every group have  to download the Excel files:\n",
        "2. Each file has three recorded values of water flow recorded using three sensors S1,S2, and S3.\n",
        "\n",
        "  2.1. Compute the covariance between three variables\n",
        "\n",
        "  2.2.Compute the correlation coefficients between three variables\n",
        "\n",
        "  2.3. Plot and report the relationships between the variables\n",
        "\n",
        "  2.4. Generate a random sample of 50 observations for each sensor\n",
        "\n",
        "  2.5. Compute the upper and the lower bounds with confidence intervals 90%, 95%, 99%.\n",
        "\n",
        "  2.6. Compare the population means of each sample with the estimated one given the samples\n"
      ],
      "metadata": {
        "id": "_IxmH1QPSaMN"
      }
    },
    {
      "cell_type": "code",
      "execution_count": null,
      "metadata": {
        "colab": {
          "base_uri": "https://localhost:8080/"
        },
        "id": "zQSWY3zySRdU",
        "outputId": "1aa3996e-ee6e-48b8-8482-9892c00ec021"
      },
      "outputs": [
        {
          "output_type": "stream",
          "name": "stdout",
          "text": [
            "Mounted at /content/drive\n"
          ]
        }
      ],
      "source": [
        "from google.colab import drive\n",
        "drive.mount('/content/drive')"
      ]
    },
    {
      "cell_type": "code",
      "source": [
        "import pandas as pd\n",
        "# Read Excel file\n",
        "df = pd.read_excel('/content/drive/MyDrive/Assignment-Math-for-ML/Group5.xlsx')\n",
        "print(df)"
      ],
      "metadata": {
        "colab": {
          "base_uri": "https://localhost:8080/"
        },
        "id": "17lC1-yITR74",
        "outputId": "29e22065-9902-41ae-a8af-401acc4502c6"
      },
      "execution_count": null,
      "outputs": [
        {
          "output_type": "stream",
          "name": "stdout",
          "text": [
            "      S1   S2   S3\n",
            "0    502  378  314\n",
            "1    491  369  390\n",
            "2    472  363  344\n",
            "3    470  386  355\n",
            "4    477  389  383\n",
            "..   ...  ...  ...\n",
            "127  500  385  314\n",
            "128  458  378  371\n",
            "129  488  386  389\n",
            "130  509  378  306\n",
            "131  516  347  327\n",
            "\n",
            "[132 rows x 3 columns]\n"
          ]
        }
      ]
    },
    {
      "cell_type": "markdown",
      "source": [
        "# 2.1.\n",
        "**Compute the covariance between three variables**"
      ],
      "metadata": {
        "id": "x9p9L04hvLqM"
      }
    },
    {
      "cell_type": "code",
      "source": [
        "cov_matrix = df.cov()\n",
        "print(cov_matrix)"
      ],
      "metadata": {
        "colab": {
          "base_uri": "https://localhost:8080/"
        },
        "id": "e9WVxMbHaC8U",
        "outputId": "31341a0c-8675-4b11-f41e-3ef97ff1e090"
      },
      "execution_count": null,
      "outputs": [
        {
          "output_type": "stream",
          "name": "stdout",
          "text": [
            "            S1          S2          S3\n",
            "S1  355.498034   54.396253    9.307425\n",
            "S2   54.396253  274.075642  160.689105\n",
            "S3    9.307425  160.689105  905.634976\n"
          ]
        }
      ]
    },
    {
      "cell_type": "markdown",
      "source": [
        "#2.2.\n",
        "**Compute the correlation coefficients between three variables**"
      ],
      "metadata": {
        "id": "Z4D8ooEOvSUi"
      }
    },
    {
      "cell_type": "code",
      "source": [
        "corr_matrix = df.corr()\n",
        "print(corr_matrix)"
      ],
      "metadata": {
        "colab": {
          "base_uri": "https://localhost:8080/"
        },
        "id": "j5lTPYI-vapz",
        "outputId": "45a565e5-c24b-4d01-caf5-4f5ffac404a1"
      },
      "execution_count": null,
      "outputs": [
        {
          "output_type": "stream",
          "name": "stdout",
          "text": [
            "          S1        S2        S3\n",
            "S1  1.000000  0.174267  0.016403\n",
            "S2  0.174267  1.000000  0.322533\n",
            "S3  0.016403  0.322533  1.000000\n"
          ]
        }
      ]
    },
    {
      "cell_type": "markdown",
      "source": [
        "# 2.3. \n",
        "**Plot and report the relationships between the variables**"
      ],
      "metadata": {
        "id": "1ECR9A_IvghD"
      }
    },
    {
      "cell_type": "code",
      "source": [
        "from pandas.plotting import scatter_matrix\n",
        "\n",
        "scatter_matrix(df, figsize=(6, 6))"
      ],
      "metadata": {
        "colab": {
          "base_uri": "https://localhost:8080/",
          "height": 549
        },
        "id": "MBXcCOegvgvK",
        "outputId": "586d4f1a-14e5-4aa7-d94f-0d831fc00a72"
      },
      "execution_count": null,
      "outputs": [
        {
          "output_type": "execute_result",
          "data": {
            "text/plain": [
              "array([[<Axes: xlabel='S1', ylabel='S1'>,\n",
              "        <Axes: xlabel='S2', ylabel='S1'>,\n",
              "        <Axes: xlabel='S3', ylabel='S1'>],\n",
              "       [<Axes: xlabel='S1', ylabel='S2'>,\n",
              "        <Axes: xlabel='S2', ylabel='S2'>,\n",
              "        <Axes: xlabel='S3', ylabel='S2'>],\n",
              "       [<Axes: xlabel='S1', ylabel='S3'>,\n",
              "        <Axes: xlabel='S2', ylabel='S3'>,\n",
              "        <Axes: xlabel='S3', ylabel='S3'>]], dtype=object)"
            ]
          },
          "metadata": {},
          "execution_count": 4
        },
        {
          "output_type": "display_data",
          "data": {
            "text/plain": [
              "<Figure size 432x432 with 9 Axes>"
            ],
            "image/png": "[encoded data removed]"
          },
          "metadata": {
            "needs_background": "light"
          }
        }
      ]
    },
    {
      "cell_type": "code",
      "source": [
        "import matplotlib.pyplot as plt\n",
        "\n",
        "cov_matrix = df.cov()\n",
        "corr_matrix = df.corr()\n",
        "\n",
        "cov_values = cov_matrix.values.flatten()\n",
        "corr_values = corr_matrix.values.flatten()\n",
        "\n",
        "plt.scatter(cov_values, corr_values)\n",
        "plt.xlabel(\"Covariance\")\n",
        "plt.ylabel(\"Correlation\")\n",
        "plt.show()\n"
      ],
      "metadata": {
        "colab": {
          "base_uri": "https://localhost:8080/",
          "height": 279
        },
        "id": "QdRHT7Nlv3zU",
        "outputId": "e0bb7481-a452-4384-b437-b53a12140353"
      },
      "execution_count": null,
      "outputs": [
        {
          "output_type": "display_data",
          "data": {
            "text/plain": [
              "<Figure size 432x288 with 1 Axes>"
            ],
            "image/png": "[encoded data removed]"
          },
          "metadata": {
            "needs_background": "light"
          }
        }
      ]
    },
    {
      "cell_type": "code",
      "source": [
        "import seaborn as sns\n",
        "\n",
        "cov_matrix = df.cov()\n",
        "\n",
        "sns.heatmap(cov_matrix, cmap=\"YlGnBu\")\n",
        "plt.title(\"Covariance Matrix\")\n",
        "plt.show()\n"
      ],
      "metadata": {
        "colab": {
          "base_uri": "https://localhost:8080/",
          "height": 281
        },
        "id": "68ylrXj9wEy5",
        "outputId": "190429db-21b3-41c1-f60a-c5402f3ce767"
      },
      "execution_count": null,
      "outputs": [
        {
          "output_type": "display_data",
          "data": {
            "text/plain": [
              "<Figure size 432x288 with 2 Axes>"
            ],
            "image/png": "[encoded data removed]"
          },
          "metadata": {
            "needs_background": "light"
          }
        }
      ]
    },
    {
      "cell_type": "code",
      "source": [
        "import seaborn as sns\n",
        "\n",
        "cov_matrix = df.cov()\n",
        "\n",
        "sns.heatmap(cov_matrix, cmap='coolwarm')\n",
        "plt.title('Covariance Matrix')\n",
        "plt.show()\n"
      ],
      "metadata": {
        "colab": {
          "base_uri": "https://localhost:8080/",
          "height": 281
        },
        "id": "Hd7yynX6wOPK",
        "outputId": "24ca307f-3ca3-4910-9fd5-93a1778a097a"
      },
      "execution_count": null,
      "outputs": [
        {
          "output_type": "display_data",
          "data": {
            "text/plain": [
              "<Figure size 432x288 with 2 Axes>"
            ],
            "image/png": "[encoded data removed]"
          },
          "metadata": {
            "needs_background": "light"
          }
        }
      ]
    },
    {
      "cell_type": "code",
      "source": [
        "import seaborn as sns\n",
        "\n",
        "corr_matrix = df.corr()\n",
        "\n",
        "sns.heatmap(corr_matrix, cmap='coolwarm')\n",
        "plt.title('Correlation Matrix')\n",
        "plt.show()\n"
      ],
      "metadata": {
        "colab": {
          "base_uri": "https://localhost:8080/",
          "height": 281
        },
        "id": "t2DnSwuPwgXj",
        "outputId": "41593d27-320b-457e-bfeb-1a8a593ac067"
      },
      "execution_count": null,
      "outputs": [
        {
          "output_type": "display_data",
          "data": {
            "text/plain": [
              "<Figure size 432x288 with 2 Axes>"
            ],
            "image/png": "[encoded data removed]"
          },
          "metadata": {
            "needs_background": "light"
          }
        }
      ]
    },
    {
      "cell_type": "markdown",
      "source": [
        "# 2.4. \n",
        "**Generate a random sample of 50 observations for each sensor**"
      ],
      "metadata": {
        "id": "hTPtcg2iyJxc"
      }
    },
    {
      "cell_type": "code",
      "source": [
        "sample_size = 50\n",
        "s1_sample = df['S1'].sample(sample_size, random_state=1)\n",
        "s2_sample = df['S2'].sample(sample_size, random_state=2)\n",
        "s3_sample = df['S3'].sample(sample_size, random_state=3)\n"
      ],
      "metadata": {
        "id": "waUv0326wrTr"
      },
      "execution_count": null,
      "outputs": []
    },
    {
      "cell_type": "code",
      "source": [],
      "metadata": {
        "id": "uj1NscV7nh4b"
      },
      "execution_count": null,
      "outputs": []
    },
    {
      "cell_type": "markdown",
      "source": [
        "#2.5.\n",
        "**Compute the upper and the lower bounds with confidence intervals 90%, 95%, 99%.**"
      ],
      "metadata": {
        "id": "OadvbpfbwnYy"
      }
    },
    {
      "cell_type": "code",
      "source": [
        "import scipy.stats as stats\n",
        "\n",
        "alpha_values = [0.10, 0.05, 0.01]\n",
        "sample_mean = s1_sample.mean()\n",
        "sample_std = s1_sample.std(ddof=1)\n",
        "sample_size = len(s1_sample)\n",
        "\n",
        "for alpha in alpha_values:\n",
        "    t = stats.t.interval(alpha, sample_size - 1)\n",
        "    lower_bound = sample_mean + t[0] * sample_std / (sample_size ** 0.5)\n",
        "    upper_bound = sample_mean + t[1] * sample_std / (sample_size ** 0.5)\n",
        "    print(f\"Confidence Interval ({1-alpha:.2f}):\\t({lower_bound:.2f}, {upper_bound:.2f})\")\n"
      ],
      "metadata": {
        "colab": {
          "base_uri": "https://localhost:8080/"
        },
        "id": "pcYFnwotw0Es",
        "outputId": "86418726-8fa7-4047-b8da-380549a2a5ae"
      },
      "execution_count": null,
      "outputs": [
        {
          "output_type": "stream",
          "name": "stdout",
          "text": [
            "Confidence Interval (0.90):\t(481.73, 482.35)\n",
            "Confidence Interval (0.95):\t(481.89, 482.19)\n",
            "Confidence Interval (0.99):\t(482.01, 482.07)\n"
          ]
        }
      ]
    },
    {
      "cell_type": "code",
      "source": [
        "alpha_values = [0.10, 0.05, 0.01]\n",
        "sample_mean = s2_sample.mean()\n",
        "sample_std = s2_sample.std(ddof=1)\n",
        "sample_size = len(s2_sample)\n",
        "\n",
        "for alpha in alpha_values:\n",
        "    t = stats.t.interval(alpha, sample_size - 1)\n",
        "    lower_bound = sample_mean + t[0] * sample_std / (sample_size ** 0.5)\n",
        "    upper_bound = sample_mean + t[1] * sample_std / (sample_size ** 0.5)\n",
        "    print(f\"Confidence Interval ({1-alpha:.2f}):\\t({lower_bound:.2f}, {upper_bound:.2f})\")\n"
      ],
      "metadata": {
        "colab": {
          "base_uri": "https://localhost:8080/"
        },
        "id": "JO3ath0Tw-Qc",
        "outputId": "fb48b112-f285-492f-dda4-6a4b1eda1c46"
      },
      "execution_count": null,
      "outputs": [
        {
          "output_type": "stream",
          "name": "stdout",
          "text": [
            "Confidence Interval (0.90):\t(373.99, 374.53)\n",
            "Confidence Interval (0.95):\t(374.12, 374.40)\n",
            "Confidence Interval (0.99):\t(374.23, 374.29)\n"
          ]
        }
      ]
    },
    {
      "cell_type": "code",
      "source": [
        "alpha_values = [0.10, 0.05, 0.01]\n",
        "sample_mean = s3_sample.mean()\n",
        "sample_std = s3_sample.std(ddof=1)\n",
        "sample_size = len(s3_sample)\n",
        "\n",
        "for alpha in alpha_values:\n",
        "    t = stats.t.interval(alpha, sample_size - 1)\n",
        "    lower_bound = sample_mean + t[0] * sample_std / (sample_size ** 0.5)\n",
        "    upper_bound = sample_mean + t[1] * sample_std / (sample_size ** 0.5)\n",
        "    print(f\"Confidence Interval ({1-alpha:.2f}):\\t({lower_bound:.2f}, {upper_bound:.2f})\")"
      ],
      "metadata": {
        "colab": {
          "base_uri": "https://localhost:8080/"
        },
        "id": "J1MBWHErxDV8",
        "outputId": "2bbbc468-14ca-4692-8164-05fec733e9b6"
      },
      "execution_count": null,
      "outputs": [
        {
          "output_type": "stream",
          "name": "stdout",
          "text": [
            "Confidence Interval (0.90):\t(351.79, 352.93)\n",
            "Confidence Interval (0.95):\t(352.08, 352.64)\n",
            "Confidence Interval (0.99):\t(352.30, 352.42)\n"
          ]
        }
      ]
    },
    {
      "cell_type": "markdown",
      "source": [
        "# 2.6.\n",
        "**Compare the population means of each sample with the estimated one given the samples**"
      ],
      "metadata": {
        "id": "b1UzD2eYxM98"
      }
    },
    {
      "cell_type": "code",
      "source": [
        "pop_mean = df['S1'].mean()\n",
        "t_statistic, p_value = stats.ttest_1samp(s1_sample, pop_mean)\n",
        "\n",
        "print(\"S1 sensor:\")\n",
        "print(f\"Sample mean: {s1_sample.mean():.2f}\")\n",
        "print(f\"Estimated population mean: {pop_mean}\")\n"
      ],
      "metadata": {
        "colab": {
          "base_uri": "https://localhost:8080/"
        },
        "id": "V2EQK_G_xKGz",
        "outputId": "057e800d-3ece-4fdf-e12a-bf4b3d683068"
      },
      "execution_count": null,
      "outputs": [
        {
          "output_type": "stream",
          "name": "stdout",
          "text": [
            "S1 sensor:\n",
            "Sample mean: 482.04\n",
            "Estimated population mean: 483.42424242424244\n"
          ]
        }
      ]
    },
    {
      "cell_type": "code",
      "source": [
        "pop_mean = df['S2'].mean()\n",
        "t_statistic, p_value = stats.ttest_1samp(s2_sample, pop_mean)\n",
        "\n",
        "print(\"S2 sensor:\")\n",
        "print(f\"Sample mean: {s2_sample.mean():.2f}\")\n",
        "print(f\"Estimated population mean: {pop_mean}\")"
      ],
      "metadata": {
        "colab": {
          "base_uri": "https://localhost:8080/"
        },
        "id": "3GS76qxIxop9",
        "outputId": "521460fb-b7f3-416f-b472-094ca5fb5e82"
      },
      "execution_count": null,
      "outputs": [
        {
          "output_type": "stream",
          "name": "stdout",
          "text": [
            "S2 sensor:\n",
            "Sample mean: 374.26\n",
            "Estimated population mean: 375.59090909090907\n"
          ]
        }
      ]
    },
    {
      "cell_type": "code",
      "source": [
        "pop_mean = df['S3'].mean()\n",
        "t_statistic, p_value = stats.ttest_1samp(s3_sample, pop_mean)\n",
        "\n",
        "print(\"S3 sensor:\")\n",
        "print(f\"Sample mean: {s3_sample.mean():.2f}\")\n",
        "print(f\"Estimated population mean: {pop_mean}\")"
      ],
      "metadata": {
        "colab": {
          "base_uri": "https://localhost:8080/"
        },
        "id": "JGnPcasWxwSE",
        "outputId": "dde3bd42-fb0e-4e24-f616-1083e8259a3f"
      },
      "execution_count": null,
      "outputs": [
        {
          "output_type": "stream",
          "name": "stdout",
          "text": [
            "S3 sensor:\n",
            "Sample mean: 352.36\n",
            "Estimated population mean: 351.72727272727275\n"
          ]
        }
      ]
    },
    {
      "cell_type": "code",
      "source": [
        "print(f\"T-statistic: {t_statistic:.2f}\")\n",
        "print(f\"P-value: {p_value:.2f}\")"
      ],
      "metadata": {
        "id": "aezRBkqhxbpd"
      },
      "execution_count": null,
      "outputs": []
    },
    {
      "cell_type": "code",
      "source": [
        "import scipy.stats as st\n",
        "import seaborn as sns\n",
        "# Correlation Figure\n",
        "plt.figure(figsize=(8,6))\n",
        "sns.heatmap(corr, cmap=\"Greens\",annot=True)\n",
        "plt.show()"
      ],
      "metadata": {
        "colab": {
          "base_uri": "https://localhost:8080/",
          "height": 235
        },
        "id": "gQY1Lba7njMn",
        "outputId": "578e7dc1-5734-446c-8640-6a9f9ef47504"
      },
      "execution_count": null,
      "outputs": [
        {
          "output_type": "error",
          "ename": "NameError",
          "evalue": "ignored",
          "traceback": [
            "\u001b[0;31m---------------------------------------------------------------------------\u001b[0m",
            "\u001b[0;31mNameError\u001b[0m                                 Traceback (most recent call last)",
            "\u001b[0;32m<ipython-input-1-451a1bc467b2>\u001b[0m in \u001b[0;36m<module>\u001b[0;34m\u001b[0m\n\u001b[1;32m      2\u001b[0m \u001b[0;32mimport\u001b[0m \u001b[0mseaborn\u001b[0m \u001b[0;32mas\u001b[0m \u001b[0msns\u001b[0m\u001b[0;34m\u001b[0m\u001b[0;34m\u001b[0m\u001b[0m\n\u001b[1;32m      3\u001b[0m \u001b[0;31m# Correlation Figure\u001b[0m\u001b[0;34m\u001b[0m\u001b[0;34m\u001b[0m\u001b[0m\n\u001b[0;32m----> 4\u001b[0;31m \u001b[0mplt\u001b[0m\u001b[0;34m.\u001b[0m\u001b[0mfigure\u001b[0m\u001b[0;34m(\u001b[0m\u001b[0mfigsize\u001b[0m\u001b[0;34m=\u001b[0m\u001b[0;34m(\u001b[0m\u001b[0;36m8\u001b[0m\u001b[0;34m,\u001b[0m\u001b[0;36m6\u001b[0m\u001b[0;34m)\u001b[0m\u001b[0;34m)\u001b[0m\u001b[0;34m\u001b[0m\u001b[0;34m\u001b[0m\u001b[0m\n\u001b[0m\u001b[1;32m      5\u001b[0m \u001b[0msns\u001b[0m\u001b[0;34m.\u001b[0m\u001b[0mheatmap\u001b[0m\u001b[0;34m(\u001b[0m\u001b[0mcorr\u001b[0m\u001b[0;34m,\u001b[0m \u001b[0mcmap\u001b[0m\u001b[0;34m=\u001b[0m\u001b[0;34m\"Greens\"\u001b[0m\u001b[0;34m,\u001b[0m\u001b[0mannot\u001b[0m\u001b[0;34m=\u001b[0m\u001b[0;32mTrue\u001b[0m\u001b[0;34m)\u001b[0m\u001b[0;34m\u001b[0m\u001b[0;34m\u001b[0m\u001b[0m\n\u001b[1;32m      6\u001b[0m \u001b[0mplt\u001b[0m\u001b[0;34m.\u001b[0m\u001b[0mshow\u001b[0m\u001b[0;34m(\u001b[0m\u001b[0;34m)\u001b[0m\u001b[0;34m\u001b[0m\u001b[0;34m\u001b[0m\u001b[0m\n",
            "\u001b[0;31mNameError\u001b[0m: name 'plt' is not defined"
          ]
        }
      ]
    }
  ]
}